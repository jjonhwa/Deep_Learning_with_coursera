{
 "cells": [
  {
   "cell_type": "markdown",
   "metadata": {},
   "source": [
    "<img src=\"images/3주차_1번.png\" style=\"width:500;height:300px;\">"
   ]
  },
  {
   "cell_type": "markdown",
   "metadata": {},
   "source": [
    "**다음과 같은 기계번역 model 사용을 고려하고 있을 때, 인코딩 부분이 x의 확률을 모델링하고 있는 것으로 보아 '조건부 언어 모델'이다.**\n",
    "* False"
   ]
  },
  {
   "cell_type": "markdown",
   "metadata": {},
   "source": [
    "<img src=\"images/3주차_2번.png\" style=\"width:900px;height:200px;\">"
   ]
  },
  {
   "cell_type": "markdown",
   "metadata": {},
   "source": [
    "**Beam Search에서, 우리가 $B$를 증가시켰을 때 따라오는 기대는?**\n",
    "* Beam Search가 느려지고 memory가 많이 들지만 더 정확한 답을 얻을 수 있다."
   ]
  },
  {
   "cell_type": "markdown",
   "metadata": {},
   "source": [
    "<img src=\"images/3주차_3번.png\" style=\"width:800px;height:125px;\">"
   ]
  },
  {
   "cell_type": "markdown",
   "metadata": {},
   "source": [
    "**기계 번역에서 문장 nomalization없이 Beam Search를 수행할 때, 그 알고리즘은 지나치게 짧게 번역하는 경향이 있다.**\n",
    "* True"
   ]
  },
  {
   "cell_type": "markdown",
   "metadata": {},
   "source": [
    "<img src=\"images/3주차_4번.png\" style=\"width:900px;height:400px;\">"
   ]
  },
  {
   "cell_type": "markdown",
   "metadata": {},
   "source": [
    "**오디오 클립 x에서 텍스트 스크립트 y로 매핑하기 위해 RNN 모델을 사용하는 음성 인식 시스템을 구축하고 있다고 하자. 우리는 Beam Search를 사용하여 $P(y|x)$를 최대로 하는 $y$를 찾으려고 한다.**\n",
    "\n",
    "**dev set 예제에서, 오디오 클립을 보면, 우리의 알고리즘은 y = “I'm building an A Eye system in Silly con Valley.”을 출력하는 반면 인간은 훨씬 우수한 y = “I'm building an AI system in Silicon Valley.”을 출력한다.**\n",
    "\n",
    "**$B$를 증가시키는 것이 위의 문제를 수정하는데 도움이 될 것으로 예상되는가?**\n",
    "\n",
    "* Error Analysis를 보았을 때, '$P(y^{*}|x) > P(\\hat{y}|x)$' 일 경우 Beam Search 개선이 도움이 되며 반대일 경우는 RNN 개선이 도움이 된다는 것을 배웠다."
   ]
  },
  {
   "cell_type": "markdown",
   "metadata": {},
   "source": [
    "<img src=\"images/3주차_5번.png\" style=\"width:900px;height:150px;\">"
   ]
  },
  {
   "cell_type": "markdown",
   "metadata": {},
   "source": [
    "**4번에 이어서, 알고리즘을 좀 더 연구한다고 가정하고, 이 때 알고리즘의 실수의 대부분이 $P(y^{*}|x) > P(\\hat{y}|x)$임을 알았다. 그렇다면 이것은 알고리즘 개선에 집중해야한다는 것을 의미한다.**\n",
    "* True : Beam Searh의 개선이 필요하다."
   ]
  },
  {
   "cell_type": "markdown",
   "metadata": {},
   "source": [
    "<img src=\"images/3주차_6번.png\" style=\"width:800px;height:600px;\">"
   ]
  },
  {
   "cell_type": "markdown",
   "metadata": {},
   "source": [
    "**$\\mathbf{\\alpha}^{<t,t'>}$관하여 옳은 것은?**\n",
    "* 우리는 $y^{t}$에 대해 산출해야 할 가치와 관련성이 높은 $a^{t'}$의 값에 대해 $\\mathbf{\\alpha}^{<t,t'>}$이 더 큰 값을 가질 것으로 예상된다.\n",
    "* $t'$에 대하여 summation 해주었을 때 1을 가진다. (Weight값 이므로)"
   ]
  },
  {
   "cell_type": "markdown",
   "metadata": {},
   "source": [
    "<img src=\"images/3주차_7번.png\" style=\"width:800px;height:180px;\">"
   ]
  },
  {
   "cell_type": "markdown",
   "metadata": {},
   "source": [
    "* False : $e^{<t,t'>}$에는 $s^{<t-1>}$와 $a^{<t'>}$가 관련하기 때문이다."
   ]
  },
  {
   "cell_type": "markdown",
   "metadata": {},
   "source": [
    "<img src=\"images/3주차_8번.png\" style=\"width:800px;height:125px;\">"
   ]
  },
  {
   "cell_type": "markdown",
   "metadata": {},
   "source": [
    "* $T_{x}$가 클 때 높은 이점을 기대할 수 있다."
   ]
  },
  {
   "cell_type": "markdown",
   "metadata": {},
   "source": [
    "<img src=\"images/3주차_9번.png\" style=\"width:800px;height:250px;\">"
   ]
  },
  {
   "cell_type": "markdown",
   "metadata": {},
   "source": [
    "* spacebar는 없고 공백만 무시하므로 cookbook이다."
   ]
  },
  {
   "cell_type": "markdown",
   "metadata": {},
   "source": [
    "<img src=\"images/3주차_10번.png\" style=\"width:800px;height:150px;\">"
   ]
  },
  {
   "cell_type": "markdown",
   "metadata": {},
   "source": [
    "**언제 trigger word를 말하였는가. 즉, $x^{<t>}$는 $t$타임일 때 trigger word를 말했다는 것을 의미한다.** <<라고 생각했는데... 틀림\n",
    "* 3번인가? 4번했다가 틀림."
   ]
  },
  {
   "cell_type": "code",
   "execution_count": null,
   "metadata": {},
   "outputs": [],
   "source": []
  },
  {
   "cell_type": "code",
   "execution_count": null,
   "metadata": {},
   "outputs": [],
   "source": []
  },
  {
   "cell_type": "code",
   "execution_count": null,
   "metadata": {},
   "outputs": [],
   "source": []
  },
  {
   "cell_type": "code",
   "execution_count": null,
   "metadata": {},
   "outputs": [],
   "source": []
  },
  {
   "cell_type": "code",
   "execution_count": null,
   "metadata": {},
   "outputs": [],
   "source": []
  }
 ],
 "metadata": {
  "kernelspec": {
   "display_name": "Python 3",
   "language": "python",
   "name": "python3"
  },
  "language_info": {
   "codemirror_mode": {
    "name": "ipython",
    "version": 3
   },
   "file_extension": ".py",
   "mimetype": "text/x-python",
   "name": "python",
   "nbconvert_exporter": "python",
   "pygments_lexer": "ipython3",
   "version": "3.7.4"
  }
 },
 "nbformat": 4,
 "nbformat_minor": 2
}
