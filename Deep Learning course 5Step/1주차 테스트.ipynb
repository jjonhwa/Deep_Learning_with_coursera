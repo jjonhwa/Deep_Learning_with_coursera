{
 "cells": [
  {
   "cell_type": "markdown",
   "metadata": {},
   "source": [
    "<img src=\"images/1주차_1번.png\" style=\"width:800px;height:200px;\">"
   ]
  },
  {
   "cell_type": "markdown",
   "metadata": {},
   "source": [
    "**$i^{th}$ Training example의 $j^{th}$단어를 가리키는 것은?**\n",
    "* $()$가 Training example을 의미하고, $<>$는 그 안에서의 time-step 순서를 나타냄\n",
    "* 더불어, $()$, $[]$, $<>$순서로 나열한다.\n",
    "* $[]$는 layer의 수를 나타낸다."
   ]
  },
  {
   "cell_type": "markdown",
   "metadata": {},
   "source": [
    "<img src=\"images/1주차_2번.png\" style=\"width:800px;height:500px;\">"
   ]
  },
  {
   "cell_type": "markdown",
   "metadata": {},
   "source": [
    "**input, output의 순서가 같다**\n",
    "* $T_x = T_y$"
   ]
  },
  {
   "cell_type": "markdown",
   "metadata": {},
   "source": [
    "<img src=\"images/1주차_3번.png\" style=\"width:800px;height:600px;\">"
   ]
  },
  {
   "cell_type": "markdown",
   "metadata": {},
   "source": [
    "**many-to-one RNN architecture를 적용할 수 있는 것은?**\n",
    "* 음성인식\n",
    "    * many-to-many\n",
    "* **감정 분석**\n",
    "    * many-to-one\n",
    "* 이미지 분석\n",
    "    * CNN\n",
    "* **연설을 통한 성 인식**\n",
    "    * many-to-one"
   ]
  },
  {
   "cell_type": "markdown",
   "metadata": {},
   "source": [
    "<img src=\"images/1주차_4번.png\" style=\"width:800px;height:600px;\">"
   ]
  },
  {
   "cell_type": "markdown",
   "metadata": {},
   "source": [
    "**$t^{th}$ time step에서 RNN이 하는 것은 무엇인가?**\n",
    "* $(t-1)^{th}$까지를 조건부로 사용하여 $t^{th}$의 확률 계산"
   ]
  },
  {
   "cell_type": "markdown",
   "metadata": {},
   "source": [
    "<img src=\"images/1주차_5번.png\" style=\"width:800px;height:600px;\">"
   ]
  },
  {
   "cell_type": "markdown",
   "metadata": {},
   "source": [
    "**Language Model RNN의 훈련을 마쳤고, 위의 그림처럼 random sentences의 샘플링하기 위해서 우리는 각 time step $t$에서 무엇을 해야하는가?**\n",
    "* (1) 하나의 time-step에서 선택 된 단어 $\\hat{y}^{\\langle t \\rangle}$를 랜덤하게 sample하기 위해 RNN을 사용한다.\n",
    "* (2) 그 후, 선택되어진 word를 다음 time-step에서 사용한다."
   ]
  },
  {
   "cell_type": "markdown",
   "metadata": {},
   "source": [
    "<img src=\"images/1주차_6번.png\" style=\"width:800px;height:200px;\">"
   ]
  },
  {
   "cell_type": "markdown",
   "metadata": {},
   "source": [
    "**RNN을 훈련시키는 중 Weights와 Activations이 모두 NaN값을 가지고 있는 것을 발견했다. 무엇이 문제일까?**\n",
    "1. 경사 소실\n",
    "2. 경사 폭발\n",
    "    * 위의 두 개의 문제는 RNN을 훈련시킬 때 흔하게 나오는 문제들이다. 그러나 이번의 경우 즉 weigths와 activations값들이 nan일 경우에는 경사 폭발에서 나타나는 문제이다."
   ]
  },
  {
   "cell_type": "markdown",
   "metadata": {},
   "source": [
    "<img src=\"images/1주차_7번.png\" style=\"width:800px;height:200px;\">"
   ]
  },
  {
   "cell_type": "markdown",
   "metadata": {},
   "source": [
    "**LSTM을 훈력시키고 있다고 가정하자. 10000개의 단어가 있다고 할 때 100차원의 activation $a^{<t>}$를 사용하고 있다. 그렇다면 $gamma_u$의 차원은 무엇일까?**\n",
    "* $Gamma_u$의 차원은 LSTM에서 hidden units의 수와 동일하다."
   ]
  },
  {
   "cell_type": "markdown",
   "metadata": {},
   "source": [
    "<img src=\"images/1주차_8번.png\" style=\"width:800px;height:600px;\">"
   ]
  },
  {
   "cell_type": "markdown",
   "metadata": {},
   "source": [
    "**Alice는 GRU를 간단히 하기 위해 $Gamma_u$를 제거하려고 모두 1로 놓자고 제안하였고, Betty는 GRU를 간단히하기 위해 $Gamma_r$을 제거하려고 모두 1로 놓자고 제안하였다.이 두 개중 엄청 긴 sequences를 훈련한다고 할 때 어떤 것이 좀 더 경사 소실 문제가 적게 일어날 것인가?**\n",
    "* relative은 $Gamma_r$을 1로 고정시키고 $Gamma_u$가 0에 가까울수록 경사 소실의 문제가 적어진다."
   ]
  },
  {
   "cell_type": "markdown",
   "metadata": {},
   "source": [
    "<img src=\"images/1주차_9번.png\" style=\"width:800px;height:600px;\">"
   ]
  },
  {
   "cell_type": "markdown",
   "metadata": {},
   "source": [
    "**LSTM에서의 Update Gate와 Forget Gate는 각각 GRU에서 $Gamma_u$와 $1 - Gamma_u$의 역할을 한다.**"
   ]
  },
  {
   "cell_type": "markdown",
   "metadata": {},
   "source": [
    "<img src=\"images/1주차_10번.png\" style=\"width:800px;height:250px;\">"
   ]
  },
  {
   "cell_type": "markdown",
   "metadata": {},
   "source": [
    "**우리는 기분이 과거와 현재의 날씨에 영향을 많이받는 애완견이 있다. 우리가 365days의 과거 날씨 데이터를 수집했고 이는 $x^{<1>},...,x^{<365>}$로 표현할 수 있다. 또한, 강아지의 기분은 $y^{<1>},...,y^{<365>}$로 표현할 수 있다. 우리는 $x -> y$의 매핑을 해주는 model을 만들고 싶다. 우리는 단방향 RNN을 쓸 것인가 아니면 양방향 RNN을 쓸 것인가?!**\n",
    "* 단방향 RNN, 왜냐면 기분은 `과거와 현재`의 날씨에만 영향을 받기 때문이다."
   ]
  },
  {
   "cell_type": "markdown",
   "metadata": {},
   "source": [
    "### 헷갈리는 문제\n",
    "* 7, 8번"
   ]
  }
 ],
 "metadata": {
  "kernelspec": {
   "display_name": "Python 3",
   "language": "python",
   "name": "python3"
  },
  "language_info": {
   "codemirror_mode": {
    "name": "ipython",
    "version": 3
   },
   "file_extension": ".py",
   "mimetype": "text/x-python",
   "name": "python",
   "nbconvert_exporter": "python",
   "pygments_lexer": "ipython3",
   "version": "3.7.4"
  }
 },
 "nbformat": 4,
 "nbformat_minor": 2
}
